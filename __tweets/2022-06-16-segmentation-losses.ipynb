{
 "cells": [
  {
   "cell_type": "markdown",
   "id": "c1ced6f8",
   "metadata": {},
   "source": [
    "Function loss plays an important role in semantic segmentation.\n",
    "\n",
    "Here is a quick list of function losses depending on the dataset:\n",
    "\n",
    "* Balanced dataset: Binary Cross-entropy\n",
    "\n",
    "* Mildly imbalanced: Dice Loss\n",
    "\n",
    "* Highly imbalanced dataset: Focal loss and Focal Tversky Loss\n",
    "\n",
    "Reference: [A survey of semantic segmentation losses](https://ieeexplore.ieee.org/abstract/document/9277638) by Jadon also available on [arXiv](https://arxiv.org/pdf/2006.14822.pdf)"
   ]
  },
  {
   "cell_type": "markdown",
   "id": "90b41f4d",
   "metadata": {},
   "source": [
    "How to apply these definitions? What is a balanced dataset?"
   ]
  },
  {
   "cell_type": "markdown",
   "id": "51478e9a",
   "metadata": {},
   "source": [
    "Balanced dataset: Binary Cross-entropy\n",
    "\n",
    "image"
   ]
  },
  {
   "cell_type": "markdown",
   "id": "16e5712c",
   "metadata": {},
   "source": [
    "Mildly imbalanced: Dice Loss\n",
    "\n",
    "image"
   ]
  },
  {
   "cell_type": "markdown",
   "id": "5b6345fd",
   "metadata": {},
   "source": [
    "Highly imbalanced dataset: Focal loss and Focal Tversky Loss\n",
    "\n",
    "image"
   ]
  }
 ],
 "metadata": {
  "kernelspec": {
   "display_name": "Python 3 (ipykernel)",
   "language": "python",
   "name": "python3"
  },
  "language_info": {
   "codemirror_mode": {
    "name": "ipython",
    "version": 3
   },
   "file_extension": ".py",
   "mimetype": "text/x-python",
   "name": "python",
   "nbconvert_exporter": "python",
   "pygments_lexer": "ipython3",
   "version": "3.9.7"
  }
 },
 "nbformat": 4,
 "nbformat_minor": 5
}
