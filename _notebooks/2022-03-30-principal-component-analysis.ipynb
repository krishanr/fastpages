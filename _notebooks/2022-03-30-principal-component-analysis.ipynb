{
 "cells": [
  {
   "cell_type": "markdown",
   "id": "0de3e0ea",
   "metadata": {},
   "source": [
    "# Principal component analysis\n",
    "> An expository article on principal componenent analysis (PCA), starting from the theory of random vectors and then gradually moving on to concrete implementation using numpy, and scikit-learn. \n",
    "\n",
    "- toc: true \n",
    "- badges: true\n",
    "- comments: true\n",
    "- categories: [statistics]"
   ]
  },
  {
   "cell_type": "markdown",
   "id": "3425e7aa",
   "metadata": {},
   "source": [
    "Principal component analysis (PCA) is a well known technique for dimensionality reduction, dating back over one hundred years. Here we'll summarize the theory and application of PCA, showing for example that it's most naturally applicable to multivariate normal data, which is determined by its first two moments. We shall derive PCA as a canonical form for random vectors, obtained using the population covariance matrix for a population or the sample covariance matrix for a sample. We'll also see how this decomposition differs when using the population correlation matrix or the sample correlation matrix instead. We conclude with a computation of PCA for the iris dataset, first from scratch using numpy, and then using the scikit-learn API.\n",
    "\n",
    "We follow chapter 8 in {% cite Johnson1982AppliedMS %} for the theory of PCA, both in terms of populations of random variables and samples of random variables, and then apply it following chapter 8 in {% cite Gron2017HandsOnML %}. We also follow Professor Helwig's notes available [here](http://users.stat.umn.edu/~helwig/notes/pca-Notes.pdf).\n",
    "\n",
    "By making a distinction between population and sample PCA, we can make statements about limits of the sample PCA as the sample size goes to infinity. Besides theoretical interest, these limits are useful for calculating confidence intervals, p-values, etc.\n",
    "\n",
    "Note hereafter that all vectors are assumed to row vectors unless specified otherwise, and we'll use $\\vec{1}$ to denote the row vector with components all equal to $1$. We'll also make the following definitions. Let $\\vec{X} = (X_1, ..., X_p)$ be a random (row) vector. The vector has (population) mean $\\vec{\\mu} = \\mathbb{E}[\\vec{X}]$ and (population) covariance matrix $\\Sigma = \\mathbb{E}[(\\vec{X} - \\vec{\\mu})^T(\\vec{X} - \\vec{\\mu})] $. The (population) correlation matrix is\n",
    "\n",
    "$$\n",
    "P = \\begin{bmatrix}\n",
    "    1       & \\rho_{12} & \\rho_{13} & \\dots & \\rho_{1p} \\\\\n",
    "    \\rho_{21}       & 1 & \\rho_{23} & \\dots & \\rho_{2p} \\\\\n",
    "    \\vdots & \\vdots & \\vdots & \\ddots & \\vdots \\\\\n",
    "    \\rho_{p1}       & \\rho_{p2} & \\rho_{p3} & \\dots & 1\n",
    "\\end{bmatrix}\n",
    "$$\n",
    "\n",
    "where\n",
    "\n",
    "$$\n",
    "\\begin{aligned}\n",
    "\\rho_{jk} & = \\frac{\\sigma_{jk}}{\\sqrt{ \\sigma_{jj} \\sigma_{kk} }}, & \\sigma_{jk} & = \\Sigma_{jk}\n",
    "\\end{aligned}\n",
    "$$\n",
    "\n",
    "is the Pearson correlation coefficient between variables $X_j$ and $X_k$."
   ]
  },
  {
   "cell_type": "markdown",
   "id": "efbfbf40",
   "metadata": {},
   "source": [
    "## Transformations of random vectors"
   ]
  },
  {
   "cell_type": "markdown",
   "id": "633c86f2",
   "metadata": {},
   "source": [
    "For $\\vec{v}, \\vec{u} \\in \\mathbb{R}^p$, let $Y = \\vec{X} \\vec{v}^T = \\vec{X} \\cdot \\vec{v}$ and $Z = \\vec{X} \\cdot \\vec{u}$, then one can show that\n",
    "\n",
    "$$\n",
    "\\begin{aligned}\n",
    "\\mathbb{E}[Y] & = \\vec{\\mu} \\cdot \\vec{v} \\\\\n",
    "\\operatorname{cov}[Y, Z] & = \\vec{v} \\: \\Sigma \\: \\vec{u}^T\n",
    "\\end{aligned}\n",
    "$$\n",
    "\n",
    "More generally, with $v_1,\\dotsc,v_q \\in \\mathbb{R}^p$ and $c \\in \\mathbb{R}^q$, let $Y = \\vec{X} \\cdot \\vec{v_i}$, and define the $q \\times p$ matrix $V$ by:\n",
    "\n",
    "$$\n",
    "V = \\begin{bmatrix}\n",
    "\\vec{v}_1 \\\\\n",
    "\\vdots \\\\\n",
    "\\vec{v}_q \\\\\n",
    "\\end{bmatrix}\n",
    "$$\n",
    "\n",
    "so that $\\vec{Y} = \\vec{X} \\cdot V^T$, then\n",
    "\n",
    "$$\n",
    "\\begin{aligned}\n",
    "\\mathbb{E}[\\vec{Y} + c] & = \\vec{\\mu} \\cdot V^T + c \\\\\n",
    "\\operatorname{cov}[\\vec{Y} + c ] & = \\operatorname{cov}[\\vec{X} \\cdot V^T] = V \\; \\Sigma_X \\; V^T\n",
    "\\end{aligned}\n",
    "$$\n",
    "\n",
    "Also note that\n",
    "\n",
    "$$ \\sum_{j=1}^q \\operatorname{Var}(Y_j)  = \\operatorname{tr}(\\operatorname{cov}[\\vec{Y}]) = \\operatorname{tr}(V \\; \\Sigma_X \\; V^T) = \\operatorname{tr}( \\Sigma_X \\; V^T V) $$\n",
    "\n",
    "by the cyclic property of the trace. Hence when $q = p$ and $V$ is orthonormal, \n",
    "\n",
    "$$ \\sum_{j=1}^p \\operatorname{Var}(Y_j)  = \\operatorname{tr}(\\operatorname{cov}[\\vec{Y}]) = \\operatorname{tr}(A \\; \\Sigma_X \\; A^T) = \\operatorname{tr}( \\Sigma_X ) = \\sum_{j=1}^p \\operatorname{Var}(X_j) $$\n",
    "\n",
    "**Spectral theorem for symmetric matricies**\n",
    "\n",
    "Recall for any $p \\times p$ symmetric matrix $\\Sigma$, if we let $\\lambda_1 \\geq \\lambda_2 \\geq \\dots \\geq \\lambda_p \\geq 0$ be the eigenvalues of $\\Sigma$, then\n",
    "\n",
    "$$ \n",
    "    \\begin{aligned}\n",
    "        \\lambda_1 & = \\operatorname{max}_{x \\neq 0} \\frac{\\vec{x} \\: \\Sigma \\: \\vec{x}^T}{\\lVert x \\rVert^2} \\\\\n",
    "        \\lambda_p & = \\operatorname{min}_{x \\neq 0} \\frac{\\vec{x} \\: \\Sigma \\: \\vec{x}^T}{\\lVert x \\rVert^2} \\\\\n",
    "        \\frac{\\lambda_1}{\\lambda_p} & = \\kappa(\\Sigma) = \\operatorname{max}_{x , y \\neq 0} \\frac{\\vec{x} \\: \\Sigma \\: \\vec{x}^T}{\\lVert x \\rVert^2} \\frac{\\lVert x \\rVert^2}{\\vec{y} \\: \\Sigma \\: \\vec{y}^T}\n",
    "    \\end{aligned}\n",
    "$$\n",
    "\n",
    "where $\\kappa(\\Sigma)$ is the condition number of $\\Sigma$, defined when $\\Sigma$ is positive definite. There are also similar formulas for the other eigenvalues defined on appropriate subspaces.\n",
    "\n",
    "Finally, since the covariance matrix $\\Sigma$ is positive semi-definite, the spectral theorem applies to it, which we shall review later. This together with the fact that any random variable with zero variance is zero implies that $\\Sigma$ is positive definite iff the random variables $X_1, ..., X_p$ are linearly independent.\n",
    "\n",
    "**Two dimensions**\n",
    "\n",
    "Here's a useful corollary of the above transformation law for the covariance matrix. Suppose $X_1$ and $X_2$ are random variables with covariance matrix $\\Sigma_X$. Then the variables $Y_1$ and $Y_2$ defined by\n",
    "\n",
    "$$\n",
    "    \\begin{aligned}\n",
    "        Y_1 & = X_1 - X_2  \\\\\n",
    "        Y_2 & = X_1 + X_2\n",
    "    \\end{aligned}\n",
    "$$\n",
    "\n",
    "have covariance\n",
    "\n",
    "$$\n",
    "    \\Sigma_Y = \\operatorname{cov}[\\vec{Y}] = \\begin{bmatrix}\n",
    "    \\sigma_{11} - 2 \\sigma_{12} + \\sigma_{22}        & \\sigma_{11} - \\sigma_{22} \\\\\n",
    "    \\sigma_{11} - \\sigma_{22}        & \\sigma_{11} + 2 \\sigma_{12} + \\sigma_{22}\n",
    "\\end{bmatrix}\n",
    "$$\n",
    "\n",
    "Thus $Y_1$ and $Y_2$ are uncorrelated iff $X_1$ and $X_2$ have the same variance, i.e. $\\sigma_{11} = \\sigma_{22}$. \n",
    "\n",
    "Moreover if $X_1$ and $X_2$ are independent, then $Y_1$ and $Y_2$ are in general not independent. In fact, if $Y_1$ and $Y_2$ are also independent, then $X_1$ and $X_2$ are normal random variables (see [here](https://math.stackexchange.com/questions/42115/when-linear-combinations-of-independent-random-variables-are-still-independent)). This fact is known as *Bernstein's theorem*, and holds for more general linear combinations.\n",
    "\n",
    "Thus a unitary transformation of iid random variables have the same covariance matrix but are not in general independent."
   ]
  },
  {
   "cell_type": "markdown",
   "id": "9da28fdd",
   "metadata": {},
   "source": [
    "## Population PCA\n",
    "\n",
    "As above let $\\vec{Y} = \\vec{X} \\cdot V^T$ where $V$ is a $pxp$ matrix. Then the formula\n",
    "\n",
    "$$ \\Sigma_Y = \\operatorname{cov}[\\vec{Y}] = V \\; \\Sigma_X \\; V^T $$\n",
    "\n",
    "shows that $\\Sigma_Y$ and $\\Sigma_X$ are similar quadratic forms. Thus since $\\Sigma_X$ is symmetric, by the spectral theorem there exists a new set of random variables $Y_1, \\dotsc, Y_p$ in which $\\Sigma_Y$ is diagonal. These are the *principal components* of the random vector $\\vec{X}$, which can also be defined using notations from probability theory as follows:\n",
    "\n",
    "$$\n",
    "\\begin{aligned}\n",
    "    \\text{First principal component }  = Y_1  = & \\text{ linear combination of } \\vec{X}\\vec{v}_1^T \\text{ that maximizes } \\\\\n",
    "     & \\operatorname{Var}[\\vec{X}\\vec{v}_1^T] \\text{ subject to } \\lVert \\vec{v}_1 \\rVert = 1 \\\\\n",
    "     \\text{Second principal component }  = Y_2  = & \\text{ linear combination of } \\vec{X}\\vec{v}_2^T \\text{ that maximizes } \\\\\n",
    "     & \\operatorname{Var}[\\vec{X}\\vec{v}_2^T] \\text{ subject to } \\lVert \\vec{v}_2 \\rVert = 1 \\text{ and } \\vec{v_2} \\: \\Sigma \\: \\vec{v_1}^T = \\operatorname{Cov}[\\vec{X}\\vec{v}_1^T, \\vec{X}\\vec{v}_2^T] = 0 \\\\\n",
    "     & \\vdots \\\\\n",
    "     \\text{Last principal component }  = Y_p  = & \\text{ linear combination of } \\vec{X}\\vec{v}_p^T \\text{ that maximizes } \\\\\n",
    "     & \\operatorname{Var}[\\vec{X}\\vec{v}_p^T] \\text{ subject to } \\lVert \\vec{v}_p \\rVert = 1 \\text{ and } \\operatorname{Cov}[\\vec{X}\\vec{v}_p^T, \\vec{X}\\vec{v}_1^T] = \\operatorname{Cov}[\\vec{X}\\vec{v}_p^T, \\vec{X}\\vec{v}_2^T] = \\dots = \\operatorname{Cov}[\\vec{X}\\vec{v}_p^T, \\vec{X}\\vec{v}_{p-1}^T] = 0\n",
    "\\end{aligned}\n",
    "$$\n",
    "\n",
    "Equivalently, let $(\\lambda_1, \\vec{e}_1)$, $(\\lambda_2, \\vec{e}_2)$, ..., $(\\lambda_p, \\vec{e}_p)$ be the eigenvalue-eigenvector pairs of $\\Sigma$ with the eigenvalues ordered in non-increasing order. Then the ith principal component is:\n",
    "\n",
    "$$\n",
    "Y_i = \\vec{X}\\vec{e}_i^T \\quad, i = 1,...,p\n",
    "$$\n",
    "\n",
    "with \n",
    "\n",
    "$$\n",
    "\\begin{aligned}\n",
    "\\operatorname{Var}[Y_i]  & = \\lambda_i \\quad i = 1,...,p \\\\\n",
    "\\operatorname{Cov}[Y_i, Y_j]  & = 0 \\quad i \\neq j\n",
    "\\end{aligned}\n",
    "$$\n",
    "\n",
    "Thus the ith maximal variance of $\\Sigma$ is the ith eigenvalue of $\\Sigma$. \n",
    "\n",
    "Also note that only unique eigenvalues have unique eigenvectors (up to sign), so the principal components are in general not unique.\n",
    "\n",
    "The above formula for the trace implies that the random variables $Y_1, ..., Y_p$ have the same total variance as $X_1, ..., X_p$, since\n",
    "\n",
    "$$ \\sum_{j=1}^p \\operatorname{Var}(X_j)  = \\operatorname{tr}(\\Sigma) = \\operatorname{tr}(V \\; \\Sigma_X \\; V^T ) = \\operatorname{tr}(\\Sigma_X) = \\sum_{j=1}^p \\operatorname{Var}(Y_j) = \\sum_{j=1}^p \\lambda_j $$\n",
    "\n",
    "Thus we can define the proportion of variance captured by the $k$th principal component as\n",
    "\n",
    "$$\n",
    "\\begin{aligned}\n",
    "& \\text{Proporition of variance due }  = \\frac{\\lambda_k}{\\sum_{j=1}^p \\lambda_j}, \\quad k= 1,...,p \\\\\n",
    "& \\text{to the $k$th principal component }\n",
    "\\end{aligned}\n",
    "$$\n",
    "\n",
    "The basic idea behind PCA for dimensionality reduction is to only keep the the first $k$ principal components which captures, say $90\\%$, of the variance, thereby reducing the number of variables.\n",
    "\n",
    "Another way to select the principal components is to choose the most variables possible such that the conditon number (ratio of largest to smallest eigenvalues) of the reduced covariance matrix is close to $1$. This is because machine learning algorithms, like linear and logistic regression, preform better (more precision and faster convergence for gradient based methods) when the condition number of the covariance matrix is close to $1$."
   ]
  },
  {
   "cell_type": "markdown",
   "id": "8e7b5e96",
   "metadata": {},
   "source": [
    "### Population PCA using the correlation matrix\n",
    "\n",
    "PCA can also be calculated using the correlation matrix $P$ which is the covariance matrix of the standardized features having their mean set to $0$ and variance to $1$. Specifically, one applies the above calculations to the following variables:\n",
    "\n",
    "$$\n",
    "\\begin{aligned}\n",
    "    Z_1 &= \\frac{X_1 - \\mu_1}{\\sqrt{\\sigma_{11}}} \\\\\n",
    "    Z_2 &= \\frac{X_2 - \\mu_2}{\\sqrt{\\sigma_{22}}} \\\\\n",
    "    \\vdots & \\quad \\vdots \\\\\n",
    "    Z_p &= \\frac{X_p - \\mu_p}{\\sqrt{\\sigma_{pp}}}\n",
    "\\end{aligned}\n",
    "$$\n",
    "\n",
    "In matrix notation we have \n",
    "\n",
    "$$\n",
    "\\begin{aligned}\n",
    "\\vec{Z} &= (\\vec{W}^{\\frac{1}{2}})^{-1}(\\vec{X} - \\vec{\\mu}) \\\\\n",
    "\\operatorname{cov}[\\vec{Z}] & = (\\vec{W}^{\\frac{1}{2}})^{-1} \\; \\Sigma \\; (\\vec{W}^{\\frac{1}{2}})^{-1} = P\n",
    "\\end{aligned}\n",
    "$$\n",
    "\n",
    "where $\\vec{W} = \\operatorname{diag}(\\sigma_{11},...,\\sigma_{pp})$. Then one obtains a decomposition similar to above with the following difference in the formula:\n",
    "\n",
    "$$\n",
    "\\sum_{j=1}^p \\operatorname{Var}(Y_j) = \\sum_{j=1}^p \\operatorname{Var}(X_j) = p\n",
    "$$\n",
    "\n",
    "Then the formula for the proportion of variance captured by the $k$th principal component simplifies to:\n",
    "\n",
    "$$\n",
    "\\begin{aligned}\n",
    "& \\text{Proporition of variance due }  = \\frac{\\lambda_k}{p}, \\quad k= 1,...,p \\\\\n",
    "& \\text{to the $k$th principal component }\n",
    "\\end{aligned}\n",
    "$$\n",
    "\n",
    "It's important to note that the principal components calculated from $\\Sigma$ and $P$ can differ significantly, being a different linear combination of the original variables (Example 8.2 in {% cite Johnson1982AppliedMS %}). The principal components are similar when the variances for the $p$ random variables are the same, $\\sigma = \\sigma_{11} = \\sigma_{22} = \\dots = \\sigma_{pp}$. Finally note that it's **good practise to work with variables on the same scales** so that the principal components aren't heavily skewed towards the larger variables."
   ]
  },
  {
   "cell_type": "markdown",
   "id": "dae3c305",
   "metadata": {},
   "source": [
    "## Sample PCA\n",
    "\n",
    "Consider $n$ iid realizations $\\vec{X}_1, ..., \\vec{X}_n$ from the random vector $\\vec{X}$. We can arrange this data into a feature matrix \n",
    "\n",
    "$$ \n",
    "X =  \\begin{bmatrix}\n",
    "\\vec{X}_1 \\\\\n",
    "\\vdots \\\\\n",
    "\\vec{X}_n \\\\\n",
    "\\end{bmatrix}\n",
    "$$\n",
    "\n",
    "\n",
    "The sample covariance matrix, $S$, is:\n",
    "\n",
    "$$ \n",
    "\\begin{aligned}\n",
    "S_{i j}  = \\frac{1}{n-1} \\sum_{k=1}^n (X_{k i} - \\bar{X}_i) (X_{k j} - \\bar{X}_j) = \\frac{1}{n-1} (X - \\vec{1} \\otimes\\bar{X})^T (X - \\bar{X} \\otimes \\vec{1}) \n",
    "\\end{aligned} \\quad \\quad i= 1,...,p \\text{ and } j = 1,...,p$$\n",
    "\n",
    "and the sample correlation matrix, $R$, is:\n",
    "\n",
    "$$\n",
    "\\begin{aligned}\n",
    "R_{ij} = \\frac{S_{ij}}{\\sqrt{S_{ii}} \\sqrt{S_{jj}}} = \\frac{\\sum_{k=1}^n (X_{k i} - \\bar{X}_i) (X_{k j} - \\bar{X}_j)}{\\sqrt{\\sum_{k=1}^n (X_{k i} - \\bar{X}_i)^2 } \\sqrt{\\sum_{k=1}^n (X_{k j} - \\bar{X}_j)^2}}\n",
    "\\end{aligned} \\quad \\quad i= 1,...,p \\text{ and } j = 1,...,p\n",
    "$$\n",
    "\n",
    "For $\\vec{v} \\in \\mathbb{R}^p$ a new feature is defined by the equation\n",
    "\n",
    "$$ Y = \\vec{X} \\cdot \\vec{v} $$\n",
    "\n",
    "Formulas similar to above show that the sample covariance matrix transforms according to (see chapter 8 in {% cite Johnson1982AppliedMS %}):\n",
    "\n",
    "$$ S_Y = V S_X V^T $$\n",
    "\n",
    "Thus an identical construction can be given for the principal components, now using $S$ in place of $\\Sigma$, or $R$ in place of $P$.\n",
    "\n",
    "#### Reconstruction error\n",
    "\n",
    "Let $W_d = [ v_1 \\dots v_d ]$ be the matrix whose columns are the first $d$ eigenvectors of $S_X$ (ordered from largest to smallest eigenvalue). Then given any feature vector $\\vec{X}_i$, the vector $\\vec{X}_i W_d$ is the $d$ dimensional projection, and the vector $\\vec{X}_i W_d W_d^T$ is the reconstructed vector. There's a fairly simple formula for the reconstruction error\n",
    "\n",
    "$$\n",
    "\\sum_{i=1}^n || \\vec{X}_i W_d W_d^T - \\vec{X}_i||^2\n",
    "$$\n",
    "\n",
    "It turns out that (see chapter 9 in {% cite Johnson1982AppliedMS %} for a proof)\n",
    "\n",
    "$$\n",
    "\\begin{aligned}\n",
    "\\sum_{i=1}^n || \\vec{X}_i W_d W_d^T - \\vec{X}_i||^2 & = \\operatorname{tr}[(X W_d W_d^T - X)(X W_d W_d^T - X)^T] \\\\\n",
    "&  \\vdots \\\\\n",
    "& = \\lambda_{d+1} + \\dots + \\lambda_p\n",
    "\\end{aligned}\n",
    "$$\n",
    "\n",
    "Thus the recontruction error of the $d$ dimensional projection is equal to the remaining $p-d$ eigenvalues of the covariance matrix, i.e. the unexplained variance. Finally, note that this is the smallest possible error among all $d$ dimensional projections, and this is another defining property of PCA."
   ]
  },
  {
   "cell_type": "markdown",
   "id": "33e91655",
   "metadata": {},
   "source": [
    "## Large sample properties\n",
    "\n",
    "As expected, when the feature matrix $X$ comes from a multivariate Gaussian, the principal components recover the natural frame which diagonalizes the covariance matrix of the Gaussian. In fact, much more can be said.\n",
    "\n",
    "When $\\vec{X}_i \\overset{iid}{\\sim} N(\\vec{\\mu}, \\vec{\\Sigma})$ and the eigenvalues of $\\Sigma$ are strictly positive and unique: $\\lambda_1 > \\dots \\lambda_p > 0$, we can describe the large sample properties of the principal directions and eigenvalues. Then as $n \\rightarrow \\infty$, we have ({% cite Johnson1982AppliedMS %}):\n",
    "\n",
    "$$\n",
    "    \\sqrt{n}(\\hat{\\vec{\\lambda}} - \\vec{\\lambda}) \\approx N(\\vec{0}, 2 \\vec{\\Lambda}^2) \\\\\n",
    "    \\sqrt{n}(\\hat{\\vec{v}}_k - \\vec{v}_k) \\approx N(\\vec{0}, \\vec{V}_k)\n",
    "$$\n",
    "\n",
    "where $\\Lambda = \\operatorname{diag}(\\lambda_1, ..., \\lambda_k)$ and\n",
    "\n",
    "$$\n",
    "    \\vec{V}_k = \\lambda_k \\sum_{l \\neq k} \\frac{\\lambda_l}{(\\lambda_l - \\lambda_k)^2} \\vec{v}_l^T \\vec{v}_l\n",
    "$$\n",
    "\n",
    "Furthermore, as $n \\rightarrow \\infty$, we have that $\\hat{\\lambda}_k$ and $\\hat{\\vec{v}}_k$ are independent."
   ]
  },
  {
   "cell_type": "markdown",
   "id": "8d81687e",
   "metadata": {},
   "source": [
    "## Practical considerations\n",
    "\n",
    "Below we follow [A. Geron's notes on PCA](https://github.com/ageron/handson-ml2/blob/master/08_dimensionality_reduction.ipynb) to implement it in numpy and sckit-learn for the iris dataset."
   ]
  },
  {
   "cell_type": "code",
   "execution_count": 1,
   "id": "1f9809f4",
   "metadata": {},
   "outputs": [],
   "source": [
    "import pandas as pd\n",
    "from sklearn import datasets\n",
    "from sklearn.decomposition import PCA\n",
    "import numpy as np\n",
    "\n",
    "iris = datasets.load_iris()"
   ]
  },
  {
   "cell_type": "code",
   "execution_count": 2,
   "id": "fadb4892",
   "metadata": {},
   "outputs": [
    {
     "name": "stdout",
     "output_type": "stream",
     "text": [
      "['sepal length (cm)', 'sepal width (cm)', 'petal length (cm)', 'petal width (cm)']\n"
     ]
    }
   ],
   "source": [
    "print(iris['feature_names'])"
   ]
  },
  {
   "cell_type": "code",
   "execution_count": 3,
   "id": "e7331ff7",
   "metadata": {},
   "outputs": [
    {
     "data": {
      "text/html": [
       "<div>\n",
       "<style scoped>\n",
       "    .dataframe tbody tr th:only-of-type {\n",
       "        vertical-align: middle;\n",
       "    }\n",
       "\n",
       "    .dataframe tbody tr th {\n",
       "        vertical-align: top;\n",
       "    }\n",
       "\n",
       "    .dataframe thead th {\n",
       "        text-align: right;\n",
       "    }\n",
       "</style>\n",
       "<table border=\"1\" class=\"dataframe\">\n",
       "  <thead>\n",
       "    <tr style=\"text-align: right;\">\n",
       "      <th></th>\n",
       "      <th>sepal_length</th>\n",
       "      <th>sepal_width</th>\n",
       "      <th>petal_length</th>\n",
       "      <th>petal_width</th>\n",
       "    </tr>\n",
       "  </thead>\n",
       "  <tbody>\n",
       "    <tr>\n",
       "      <th>0</th>\n",
       "      <td>5.1</td>\n",
       "      <td>3.5</td>\n",
       "      <td>1.4</td>\n",
       "      <td>0.2</td>\n",
       "    </tr>\n",
       "    <tr>\n",
       "      <th>1</th>\n",
       "      <td>4.9</td>\n",
       "      <td>3.0</td>\n",
       "      <td>1.4</td>\n",
       "      <td>0.2</td>\n",
       "    </tr>\n",
       "    <tr>\n",
       "      <th>2</th>\n",
       "      <td>4.7</td>\n",
       "      <td>3.2</td>\n",
       "      <td>1.3</td>\n",
       "      <td>0.2</td>\n",
       "    </tr>\n",
       "    <tr>\n",
       "      <th>3</th>\n",
       "      <td>4.6</td>\n",
       "      <td>3.1</td>\n",
       "      <td>1.5</td>\n",
       "      <td>0.2</td>\n",
       "    </tr>\n",
       "    <tr>\n",
       "      <th>4</th>\n",
       "      <td>5.0</td>\n",
       "      <td>3.6</td>\n",
       "      <td>1.4</td>\n",
       "      <td>0.2</td>\n",
       "    </tr>\n",
       "  </tbody>\n",
       "</table>\n",
       "</div>"
      ],
      "text/plain": [
       "   sepal_length  sepal_width  petal_length  petal_width\n",
       "0           5.1          3.5           1.4          0.2\n",
       "1           4.9          3.0           1.4          0.2\n",
       "2           4.7          3.2           1.3          0.2\n",
       "3           4.6          3.1           1.5          0.2\n",
       "4           5.0          3.6           1.4          0.2"
      ]
     },
     "execution_count": 3,
     "metadata": {},
     "output_type": "execute_result"
    }
   ],
   "source": [
    "df = pd.DataFrame(iris['data'], columns=['sepal_length', 'sepal_width', 'petal_length', 'petal_width'])\n",
    "df.head(5)"
   ]
  },
  {
   "cell_type": "code",
   "execution_count": 4,
   "id": "627cff12",
   "metadata": {},
   "outputs": [
    {
     "data": {
      "text/html": [
       "<div>\n",
       "<style scoped>\n",
       "    .dataframe tbody tr th:only-of-type {\n",
       "        vertical-align: middle;\n",
       "    }\n",
       "\n",
       "    .dataframe tbody tr th {\n",
       "        vertical-align: top;\n",
       "    }\n",
       "\n",
       "    .dataframe thead th {\n",
       "        text-align: right;\n",
       "    }\n",
       "</style>\n",
       "<table border=\"1\" class=\"dataframe\">\n",
       "  <thead>\n",
       "    <tr style=\"text-align: right;\">\n",
       "      <th></th>\n",
       "      <th>sepal_length</th>\n",
       "      <th>sepal_width</th>\n",
       "      <th>petal_length</th>\n",
       "      <th>petal_width</th>\n",
       "    </tr>\n",
       "  </thead>\n",
       "  <tbody>\n",
       "    <tr>\n",
       "      <th>count</th>\n",
       "      <td>150.000000</td>\n",
       "      <td>150.000000</td>\n",
       "      <td>150.000000</td>\n",
       "      <td>150.000000</td>\n",
       "    </tr>\n",
       "    <tr>\n",
       "      <th>mean</th>\n",
       "      <td>5.843333</td>\n",
       "      <td>3.057333</td>\n",
       "      <td>3.758000</td>\n",
       "      <td>1.199333</td>\n",
       "    </tr>\n",
       "    <tr>\n",
       "      <th>std</th>\n",
       "      <td>0.828066</td>\n",
       "      <td>0.435866</td>\n",
       "      <td>1.765298</td>\n",
       "      <td>0.762238</td>\n",
       "    </tr>\n",
       "    <tr>\n",
       "      <th>min</th>\n",
       "      <td>4.300000</td>\n",
       "      <td>2.000000</td>\n",
       "      <td>1.000000</td>\n",
       "      <td>0.100000</td>\n",
       "    </tr>\n",
       "    <tr>\n",
       "      <th>25%</th>\n",
       "      <td>5.100000</td>\n",
       "      <td>2.800000</td>\n",
       "      <td>1.600000</td>\n",
       "      <td>0.300000</td>\n",
       "    </tr>\n",
       "    <tr>\n",
       "      <th>50%</th>\n",
       "      <td>5.800000</td>\n",
       "      <td>3.000000</td>\n",
       "      <td>4.350000</td>\n",
       "      <td>1.300000</td>\n",
       "    </tr>\n",
       "    <tr>\n",
       "      <th>75%</th>\n",
       "      <td>6.400000</td>\n",
       "      <td>3.300000</td>\n",
       "      <td>5.100000</td>\n",
       "      <td>1.800000</td>\n",
       "    </tr>\n",
       "    <tr>\n",
       "      <th>max</th>\n",
       "      <td>7.900000</td>\n",
       "      <td>4.400000</td>\n",
       "      <td>6.900000</td>\n",
       "      <td>2.500000</td>\n",
       "    </tr>\n",
       "  </tbody>\n",
       "</table>\n",
       "</div>"
      ],
      "text/plain": [
       "       sepal_length  sepal_width  petal_length  petal_width\n",
       "count    150.000000   150.000000    150.000000   150.000000\n",
       "mean       5.843333     3.057333      3.758000     1.199333\n",
       "std        0.828066     0.435866      1.765298     0.762238\n",
       "min        4.300000     2.000000      1.000000     0.100000\n",
       "25%        5.100000     2.800000      1.600000     0.300000\n",
       "50%        5.800000     3.000000      4.350000     1.300000\n",
       "75%        6.400000     3.300000      5.100000     1.800000\n",
       "max        7.900000     4.400000      6.900000     2.500000"
      ]
     },
     "execution_count": 4,
     "metadata": {},
     "output_type": "execute_result"
    }
   ],
   "source": [
    "df.describe()"
   ]
  },
  {
   "cell_type": "markdown",
   "id": "47cc8dc0",
   "metadata": {},
   "source": [
    "Since the units of each feature are comparable (the standard deviations are of the same order of magnitude), we will calculate PCA using the sample covariance matrix. If on the otherhand, the magnitudes differed by orders of magnitude, we would calculate PCA using the sample correlation matrix."
   ]
  },
  {
   "cell_type": "markdown",
   "id": "48acac4a",
   "metadata": {},
   "source": [
    "### PCA using SVD directly\n",
    "\n",
    "The principal components can be calculated by diagonalizing the covariance matrix or calulating the singular value decomposition of the feature matrix. We'll use the latter for numerical reasons."
   ]
  },
  {
   "cell_type": "code",
   "execution_count": 5,
   "id": "cca2b311",
   "metadata": {},
   "outputs": [],
   "source": [
    "X = iris['data']"
   ]
  },
  {
   "cell_type": "markdown",
   "id": "f64c7320",
   "metadata": {},
   "source": [
    "The SVD of $X$ is calculated after subtracting off the sample mean. We'll call this matrix $X_{centered}$ and work with it hereafter. Then the SVD of $X_{centered}$ is\n",
    "\n",
    "$X_{centered} = U D V^T$\n",
    "\n",
    "where $U$ is an $n \\times n$ orthonormal matrix, $V$ is an $m \\times m$ orthonormal matrix, and $D = \\operatorname{diag}(d_{11}, ..., d_{mm})$ is an $n \\times m$ rectangular diagonal matrix. \n",
    "\n",
    "The matrix $V$ is the matrix of eigenvectors from the sample PCA above, and the diagonal covariance matrix $S_Y$ is obtained by squaring the singular values and dividing by $n-1$:\n",
    "\n",
    "$$\n",
    "S_Y =   \\frac{1}{n-1}\\begin{bmatrix}\n",
    "    d_{11}^2 & & \\\\\n",
    "    & \\ddots & \\\\\n",
    "    & & d_{mm}^2\n",
    "  \\end{bmatrix}\n",
    "$$\n",
    "\n",
    "For this example, we have:"
   ]
  },
  {
   "cell_type": "code",
   "execution_count": 6,
   "id": "594e1f20",
   "metadata": {},
   "outputs": [],
   "source": [
    "# Direct computation using SVD\n",
    "X_centered = X - X.mean(axis=0)\n",
    "U, D, Vt = np.linalg.svd(X_centered)\n",
    "V = Vt.T\n",
    "eigs = D ** 2"
   ]
  },
  {
   "cell_type": "markdown",
   "id": "9d4cbd92",
   "metadata": {},
   "source": [
    "The $d$-dimensional projection can be calcualted using the $p \\times d$ matrix $W_d$ whose $d$ columns are the first $d$ eigenvectors.\n",
    "\n",
    "$X_{d-proj} = X_{centered}    W_d$"
   ]
  },
  {
   "cell_type": "code",
   "execution_count": 7,
   "id": "fa4369e7",
   "metadata": {},
   "outputs": [
    {
     "data": {
      "text/plain": [
       "(150, 2)"
      ]
     },
     "execution_count": 7,
     "metadata": {},
     "output_type": "execute_result"
    }
   ],
   "source": [
    "W2 = V[:, :2]\n",
    "# W2 can also be obtained from the sklearn package using: pca.components_.T \n",
    "X2D_diy = X_centered @ W2\n",
    "X2D_diy.shape"
   ]
  },
  {
   "cell_type": "markdown",
   "id": "57269478",
   "metadata": {},
   "source": [
    "Obtain the reconstructed data using:\n",
    "\n",
    "$ X_{recovered} = X_{d-proj} W_{d}^T$\n",
    "\n",
    "\n",
    "A defining property of PCA is that for any dimension $d < m$, the PCA reconstruction of the data minimizes the mean squared error between the original data among all possible $d$ dimensional hyperplanes. Moreover, the square of this error is equal to the sum of the $m-d$ smaller eigenvalues, as we shall see."
   ]
  },
  {
   "cell_type": "code",
   "execution_count": 8,
   "id": "1dfafa5d",
   "metadata": {},
   "outputs": [],
   "source": [
    "X_recovered = X2D_diy @ W2.T"
   ]
  },
  {
   "cell_type": "markdown",
   "id": "ef84d98e",
   "metadata": {},
   "source": [
    "The squared error is then:"
   ]
  },
  {
   "cell_type": "code",
   "execution_count": 9,
   "id": "66e8b210",
   "metadata": {
    "scrolled": true
   },
   "outputs": [
    {
     "data": {
      "text/plain": [
       "15.204644359438948"
      ]
     },
     "execution_count": 9,
     "metadata": {},
     "output_type": "execute_result"
    }
   ],
   "source": [
    "np.linalg.norm(X_centered - X_recovered)**2"
   ]
  },
  {
   "cell_type": "markdown",
   "id": "7fdcff78",
   "metadata": {},
   "source": [
    "Which is equal to the sum of the two smaller eigenvalues:"
   ]
  },
  {
   "cell_type": "code",
   "execution_count": 10,
   "id": "f915beda",
   "metadata": {},
   "outputs": [
    {
     "data": {
      "text/plain": [
       "15.204644359438953"
      ]
     },
     "execution_count": 10,
     "metadata": {},
     "output_type": "execute_result"
    }
   ],
   "source": [
    "sum(eigs[2:])"
   ]
  },
  {
   "cell_type": "markdown",
   "id": "c63d6f94",
   "metadata": {},
   "source": [
    "The proportion of the total sample variance due to each sample principal component is:\n",
    "\n",
    "$$\n",
    "\\frac{\\hat{\\lambda_i}}{(\\sum_{i=1}^m \\hat{\\lambda_i}) } \\quad \\quad \\quad i = 1,...,m\n",
    "$$\n",
    "\n",
    "and is given numerically by"
   ]
  },
  {
   "cell_type": "code",
   "execution_count": 11,
   "id": "52ce5990",
   "metadata": {},
   "outputs": [
    {
     "data": {
      "text/plain": [
       "array([0.92461872, 0.05306648, 0.01710261, 0.00521218])"
      ]
     },
     "execution_count": 11,
     "metadata": {},
     "output_type": "execute_result"
    }
   ],
   "source": [
    "eigs/sum(eigs)"
   ]
  },
  {
   "cell_type": "markdown",
   "id": "c1e02c51",
   "metadata": {},
   "source": [
    "We can obtain the number of principal components to retain by either (i) retaining the first $d$ components which sum up to 95% of the total variance, or (ii) looking for an elbow in the scree plot."
   ]
  },
  {
   "cell_type": "code",
   "execution_count": 12,
   "id": "d1a77ec8",
   "metadata": {},
   "outputs": [
    {
     "data": {
      "image/png": "[encoded data removed]",
      "text/plain": [
       "<Figure size 432x288 with 1 Axes>"
      ]
     },
     "metadata": {
      "needs_background": "light"
     },
     "output_type": "display_data"
    }
   ],
   "source": [
    "import matplotlib.pyplot as plt\n",
    "\n",
    "plt.plot(range(1,len(eigs)+1), np.array(eigs.tolist()))\n",
    "plt.title(label=\"Scree plot\")\n",
    "plt.xlabel(\"i\")\n",
    "plt.ylabel(\"lambda_i\")\n",
    "plt.show()"
   ]
  },
  {
   "cell_type": "markdown",
   "id": "20c52955",
   "metadata": {},
   "source": [
    "There is an elbow in the plot at $i = 2$, meaning all eigenvalues after $\\lambda_1$ are relatively small and about the same size. In this case, it appears that the first principal component effectively summarize the total sample variance."
   ]
  },
  {
   "cell_type": "markdown",
   "id": "19cd9c55",
   "metadata": {},
   "source": [
    "Finally, we can visualize the two dimensional projection using a scatter plot."
   ]
  },
  {
   "cell_type": "code",
   "execution_count": 13,
   "id": "96c636ca",
   "metadata": {},
   "outputs": [
    {
     "data": {
      "image/png": "[encoded data removed]",
      "text/plain": [
       "<Figure size 432x288 with 1 Axes>"
      ]
     },
     "metadata": {
      "needs_background": "light"
     },
     "output_type": "display_data"
    }
   ],
   "source": [
    "plt.title(\"PCA with 2 principal components\", fontsize=14)\n",
    "plt.scatter(X2D_diy[:, 0], X2D_diy[:,1], c=iris['target'])\n",
    "plt.xlabel(\"$y_1$\", fontsize=18)\n",
    "plt.ylabel(\"$y_2$\", fontsize=18)\n",
    "plt.show()"
   ]
  },
  {
   "cell_type": "markdown",
   "id": "12df7088",
   "metadata": {},
   "source": [
    "### PCA using scikit-learn\n",
    "\n",
    "Now we'll calculate the PCA projection using scikit-learn. Notice that scikit-learn will mean center the data itself."
   ]
  },
  {
   "cell_type": "code",
   "execution_count": 14,
   "id": "ab3bf4f5",
   "metadata": {},
   "outputs": [],
   "source": [
    "pca = PCA(n_components = 2)\n",
    "X2D = pca.fit_transform(X)"
   ]
  },
  {
   "cell_type": "markdown",
   "id": "a98753ea",
   "metadata": {},
   "source": [
    "Instead of specifing the number of components in the call to PCA above, we can also set $\\operatorname{n\\_components}=0.95$ to obtain the number of dimensions which capture 95% of the variance in the data. Or we could pass in no arguments to get the full SVD and plot a scree plot."
   ]
  },
  {
   "cell_type": "markdown",
   "id": "883f8455",
   "metadata": {},
   "source": [
    "Below, we check that sklearn PCA and the one calculated with SVD directly give the same answer."
   ]
  },
  {
   "cell_type": "code",
   "execution_count": 15,
   "id": "079e0f49",
   "metadata": {},
   "outputs": [
    {
     "data": {
      "text/plain": [
       "2.748330173586095"
      ]
     },
     "execution_count": 15,
     "metadata": {},
     "output_type": "execute_result"
    }
   ],
   "source": [
    "np.max(X2D - X2D_diy)"
   ]
  },
  {
   "cell_type": "markdown",
   "id": "e549b5c0",
   "metadata": {},
   "source": [
    "The non-uniquness of the PCA leads to a large difference. However, this can be fixed by inspecting the projections and adjusting:"
   ]
  },
  {
   "cell_type": "code",
   "execution_count": 16,
   "id": "2da4b26f",
   "metadata": {},
   "outputs": [
    {
     "data": {
      "text/plain": [
       "1.3322676295501878e-15"
      ]
     },
     "execution_count": 16,
     "metadata": {},
     "output_type": "execute_result"
    }
   ],
   "source": [
    "X2D_diy[:,1] = - X2D_diy[:,1]\n",
    "np.max(X2D - X2D_diy)"
   ]
  },
  {
   "cell_type": "markdown",
   "id": "48eabdb0",
   "metadata": {},
   "source": [
    "The explained variance ratio holds the proportion of variance explained by the first two sample principal components, and is given by"
   ]
  },
  {
   "cell_type": "code",
   "execution_count": 17,
   "id": "c608cec8",
   "metadata": {
    "scrolled": true
   },
   "outputs": [
    {
     "data": {
      "text/plain": [
       "array([0.92461872, 0.05306648])"
      ]
     },
     "execution_count": 17,
     "metadata": {},
     "output_type": "execute_result"
    }
   ],
   "source": [
    "pca.explained_variance_ratio_"
   ]
  },
  {
   "cell_type": "markdown",
   "id": "165fe071",
   "metadata": {},
   "source": [
    "#### Computational complexity\n",
    "\n",
    "Let $n_{max} = \\operatorname{max}(m,n)$ and $n_{min} = \\operatorname{min}(m,n)$. If $n_{max} < 500$ and $d$ is less than $80\\%$ of $n_{min}$, then scikit-learn uses the full SVD approach which has a complexity of $O(n_{max}^2 n_{min})$, otherwise it uses randomized PCA which has a complexity of $O(n_{max}^2 d)$ (cf. [here](https://scikit-learn.org/stable/modules/decomposition.html#pca-using-randomized-svd) and {% cite Gron2017HandsOnML %})."
   ]
  },
  {
   "cell_type": "markdown",
   "id": "d144d7eb",
   "metadata": {},
   "source": [
    "There are many more variations of PCA, and other dimensionality reduction algorithms. See [Decomposing signals in components (matrix factorization problems)](https://scikit-learn.org/stable/modules/decomposition.html#decomposing-signals-in-components-matrix-factorization-problems) in the scikit-learn documentation, for example.\n",
    "\n",
    "{% bibliography --cited %}"
   ]
  }
 ],
 "metadata": {
  "kernelspec": {
   "display_name": "Python 3 (ipykernel)",
   "language": "python",
   "name": "python3"
  },
  "language_info": {
   "codemirror_mode": {
    "name": "ipython",
    "version": 3
   },
   "file_extension": ".py",
   "mimetype": "text/x-python",
   "name": "python",
   "nbconvert_exporter": "python",
   "pygments_lexer": "ipython3",
   "version": "3.9.7"
  }
 },
 "nbformat": 4,
 "nbformat_minor": 5
}
