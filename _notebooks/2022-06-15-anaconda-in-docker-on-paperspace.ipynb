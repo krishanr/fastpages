{
 "cells": [
  {
   "cell_type": "markdown",
   "id": "22f00c71",
   "metadata": {},
   "source": [
    "# How to build a Docker image with an Anaconda environment in Paperspace?\n",
    "> I'll describe how to build a custom docker image containing an anaconda environment which can be run on Paperspace.\n",
    "\n",
    "- toc: true \n",
    "- badges: false\n",
    "- comments: true\n",
    "- categories: [docker, tools]"
   ]
  },
  {
   "cell_type": "markdown",
   "id": "55111b4e",
   "metadata": {},
   "source": [
    "[Paperspace](https://www.paperspace.com/) is an affordable tool for obtaining cloud compute power. Using it, you can run jupyter notebooks, python scripts, or just about anything, provided you can write the right Docker file. Plus some of the compute instances also come with GPUs, making Paperspace an alternative to [Google Colab](https://colab.research.google.com/). In contrast with Google Colab though, Paperspace saves the files you use, so they are there when you return. Inspired by Alex's post on [Building my own image to use IceVision with Paperspace](https://mlops.systems/tools/docker/computervision/2022/03/25/paperspace-docker-icevision.html), in this post I'll describe how you can build a docker image to wrap an Anaconda environment, and then run it on Paperspace. The Dockerfile and Anaconda environment I used are available on Github [here](https://github.com/krishanr/paperspaceconda).\n",
    "\n",
    "The context for this post is that even though a custom anaconda environment can be created and run in the Paperspace images that are readily available, for longer projects, it would be useful to use a Paperspace image that comes prebuilt with a desired environment."
   ]
  },
  {
   "cell_type": "markdown",
   "id": "10c18154",
   "metadata": {},
   "source": [
    "We can do this by adding a few additional lines to the standard Paperspace Docker image. Any anconda environment available at 'environment.yml' can be created and activated using these 4 lines:"
   ]
  },
  {
   "cell_type": "markdown",
   "id": "09547fcd",
   "metadata": {},
   "source": [
    "```Dockerfile\n",
    "ADD environment.yml $APP_HOME/environment.yml\n",
    "RUN conda env create -f $APP_HOME/environment.yml\n",
    "\n",
    "ENV PATH $CONDA_DIR/envs/tf2/bin:$PATH\n",
    "RUN echo \"source activate tf2\" > ~/.bashrc\n",
    "```"
   ]
  },
  {
   "cell_type": "markdown",
   "id": "fd01edf6",
   "metadata": {},
   "source": [
    "The first two commands add the conda environment file to the Docker containers workspace, and then create the conda environment. \n",
    "\n",
    "The third command adds the enviornment directory to the PATH enviroment variable. The directory path contains the environment name, which in this case is tf2 (replace this with your environment name if necessary). Finally, the last command adds a command to activate the enviornment to the bashrc file, so that the environment is activated when the container is started.\n",
    "\n",
    "That's it! The bulk of the work for creating and running a Docker image with an anaconda environment in Paperspace is done with the above 4 lines of code.\n",
    "\n",
    "The entire Dockerfile is available on GitHub [here](https://github.com/krishanr/paperspaceconda/blob/master/Dockerfile)."
   ]
  },
  {
   "cell_type": "markdown",
   "id": "84dfbf0b",
   "metadata": {},
   "source": [
    "Following [Alex](https://mlops.systems/tools/docker/computervision/2022/03/25/paperspace-docker-icevision.html), I'll describe the steps to setup a Paperspace instance using this Dockerfile.\n",
    "\n",
    "First go to your notebooks inside a project, and create a new Paperspace notebook.\n",
    "\n",
    "![text](paperspace1.png)\n"
   ]
  },
  {
   "cell_type": "markdown",
   "id": "1a4cc13f",
   "metadata": {},
   "source": [
    "Next, choose a GPU instance to create the notebook (or CPU depending on the project), for example the RTX5000 option, and an automatic shutdown of 6 hours.\n",
    "\n",
    "![text](paperspace2.png)"
   ]
  },
  {
   "cell_type": "markdown",
   "id": "814905b0",
   "metadata": {},
   "source": [
    "Next the Dockerfile will have to be built and pushed to Dockerhub, before it can be used with paperspace. \n",
    "\n",
    "To build the Dockerfile, just run\n",
    "\n",
    "```bash\n",
    "docker build -t k2rajara/paperspace:3.0\n",
    "```\n",
    "\n",
    "for example, in the same directory as the Dockerfile.\n",
    "\n",
    "In the above code, 'k2rajara/paperspace' is the [container name](https://hub.docker.com/r/k2rajara/paperspace) on Dockerhub.  To create your own repository on Dockerhub, follow the instructions [here](https://docs.docker.com/docker-hub/). Then push your image there. Once this is complete, its details can be added to the advanced section:\n",
    "\n",
    "![text](paperspace3.png)"
   ]
  },
  {
   "cell_type": "markdown",
   "id": "f92f66c0",
   "metadata": {},
   "source": [
    "The command that is run in the container is the default one for Paperspace:\n",
    "\n",
    "```bash\n",
    "jupyter lab --allow-root --ip=0.0.0.0 --no-browser --ServerApp.trust_xheaders=True --ServerApp.disable_check_xsrf=False --ServerApp.allow_remote_access=True --ServerApp.allow_origin='*' --ServerApp.allow_credentials=True\n",
    "```\n",
    "\n",
    "Finally after clicking \"Start Notebook\", Paperspace should pull the image from Dockerhub and run jupyter lab as requested."
   ]
  },
  {
   "cell_type": "markdown",
   "id": "3864eb9f",
   "metadata": {},
   "source": [
    "In my case, the conda environment I created is available on Github [here](https://github.com/krishanr/paperspaceconda/blob/master/environment.yml) and shown here:\n",
    "\n",
    "```YAML\n",
    "name: tf2\n",
    "channels:\n",
    "  - conda-forge\n",
    "  - defaults\n",
    "  - anaconda\n",
    "dependencies:\n",
    "- python=3.6\n",
    "- pip=21\n",
    "- jupyterlab\n",
    "- jupyter_client=7.1.0\n",
    "- jupyter_server=1.13.1\n",
    "- tensorflow-gpu=2.2\n",
    "- pip:\n",
    "  - mlflow==1.11.0\n",
    "  - python-dotenv==0.15.0\n",
    "  - matplotlib==3.1.2\n",
    "  - Pillow==8.0.1\n",
    "  - scikit-image==0.17.2\n",
    "  - ruamel_yaml==0.16.12\n",
    "```"
   ]
  },
  {
   "cell_type": "markdown",
   "id": "a19d4a94",
   "metadata": {},
   "source": [
    "The project I was working on used python 3.6, and tensorflow 2.2. Due to the outated version of python, I also had to install the jupyter client and server manually, to avoid bugs. However, the environment can be customized depending on your project requirements.\n",
    "\n",
    "For example, to create a minimal installation with tensorflow2 and jupyterlab, use:\n",
    "\n",
    "```YAML\n",
    "name: tf2\n",
    "channels:\n",
    "  - anaconda\n",
    "dependencies:\n",
    "- jupyterlab\n",
    "- tensorflow-gpu\n",
    "```"
   ]
  }
 ],
 "metadata": {
  "kernelspec": {
   "display_name": "Python 3 (ipykernel)",
   "language": "python",
   "name": "python3"
  },
  "language_info": {
   "codemirror_mode": {
    "name": "ipython",
    "version": 3
   },
   "file_extension": ".py",
   "mimetype": "text/x-python",
   "name": "python",
   "nbconvert_exporter": "python",
   "pygments_lexer": "ipython3",
   "version": "3.9.7"
  }
 },
 "nbformat": 4,
 "nbformat_minor": 5
}
