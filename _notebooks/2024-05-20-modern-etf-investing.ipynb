{
 "cells": [
  {
   "cell_type": "markdown",
   "id": "0de3e0ea",
   "metadata": {},
   "source": [
    "# Modern ETF Investing\n",
    "> A brief introduction to exchange traded fund (ETF) investing for Canadian investors.\n",
    "\n",
    "- toc: false \n",
    "- badges: false\n",
    "- comments: true\n",
    "- categories: [investing]"
   ]
  },
  {
   "cell_type": "markdown",
   "id": "77bd692a",
   "metadata": {},
   "source": [
    "![s&p500-returns](sandp500returns.png)\n",
    "Sources: https://posts.voronoiapp.com/markets/The-Growth-of-100-by-Asset-Class-1970-2023-936 and https://pages.stern.nyu.edu/~adamodar/New_Home_Page/datafile/histretSP.html"
   ]
  },
  {
   "cell_type": "markdown",
   "id": "bcc5cce5",
   "metadata": {},
   "source": [
    "According to the above figure, over the 53 year period from 1970 to 2023, the S&P 500 grew an average of 10.75% per year, whereas cash grew an average of 4.35% per year. \n",
    "The cash growth just beat inflation, which was 3.98% per year during that period. Here \"Cash\" is measured in the value of 3-month U.S. T-Bills. It's well known that leaving money\n",
    "in actual cash loses value over time, because prices of common items like bread, and soap and tend to increase over time.\n",
    "\n",
    "Why is this useful to the average person? At an annual growth rate of 10.75%, an initial saving of \\\\$1000 plus monthly investments of \\\\$400 per month can grow to \\\\$1 million dollars in 30 years. You can do the calculation yourself [here](https://www.dinkytown.net/java/savings-calculator-canadian.html).\n",
    "\n",
    "The traditional approach to get good returns, similar to 10.75%, is to invest in mutual funds, which invest your money in a variety of financial products, including stocks and bonds. They often claim to give great returns, even better than the S&P 500 (which is unlikely to hold for 20-30 years, see {% cite hallam2017millionaire %} for example). However they come at a large cost, measured by the management expense ratio (MER). The MER is a percentage that is deducted from the annual returns of the underlying portfolio. This [MER calculator](https://learningtofi.com/mer-fee-calculator/) comapres an initial investment of \\\\$10000 with monthly contributions of \\\\$1000 over 25 years\n",
    "with investments that have the same return but significantly different MERs. The first investment has an MER of 0.24%, comparable to many Vanguard funds, and the second has an MER of 2.23%, the MER of expensive mutual funds. The difference in fees over 25 years is over \\\\$225 thousand dollars.\n",
    "\n",
    "The solution for most people is to inveset in index funds. Index funds are designed to passively track an index like the S&P 500 US stock market index, S&P/TSX Composite Index, bond market indices, etc. Since they are passively managed, they typically have a much lower MER than mutual funds, which are actively managed. Most brokerages sell exchange traded funds (ETFs), which are index funds that can be traded like stocks.\n",
    "\n",
    "With thousands of ETFs to choose from these days, there are still challenges. The solution is to pick ETFs with low fees (MER < 0.5%), a diversified portfolio, and be consistient over the long run (quoted from [canadiancouchpotato.com](https://canadiancouchpotato.com/model-portfolios/)). [Vanguard](https://www.vanguard.ca/en/investor/home) ETFs are a great choice for having well diversified ETFs with low fees, which I go with. There's also BlackRock (iShares) and BMO in Canada. Simple examples of balanced (containing stocks and bonds) ETF portfolios are available [here](https://canadiancouchpotato.com/model-portfolios/). For example, [VBAL](https://www.vanguard.ca/en/investor/products/products-group/etfs/VBAL) is an ETF by Vangaurd Canada that has been around since 2018 and has a 5 year growth rate of 6.30%, with an MER of 0.24%, thus an effective 5 year growth rate of 7.4%. This ETF is an \"end-user\" ETF that tracks an internal benchmark, but claims to \"invest in broad-based equity and fixed income markets\", so it's safe to assume it's diversified. See the top 10 holdings for the specific ETFs it aggregates. This ETF gives a fairly easy option for a low fee, diversified portfolio.\n",
    "\n",
    "Finally a plan to practically implement ETF investing by automatically investing deposits, and reinvesting dividends can be found at {% cite canadiancouchpotato %} [here](https://canadiancouchpotato.com/2020/01/28/how-to-set-up-a-hands-off-etf-portfolio/). See {% cite hallam2017millionaire %} for a much more detailed walkthrough on ETF investing. {% cite howtoinvestonline %} for a more detailed guide on ETF investing online. {% cite sethi2019will %} for another introduction to ETF investing and much more about personal finance."
   ]
  },
  {
   "cell_type": "markdown",
   "id": "d144d7eb",
   "metadata": {},
   "source": [
    "{% bibliography --cited %}"
   ]
  }
 ],
 "metadata": {
  "kernelspec": {
   "display_name": "Python 3 (ipykernel)",
   "language": "python",
   "name": "python3"
  },
  "language_info": {
   "codemirror_mode": {
    "name": "ipython",
    "version": 3
   },
   "file_extension": ".py",
   "mimetype": "text/x-python",
   "name": "python",
   "nbconvert_exporter": "python",
   "pygments_lexer": "ipython3",
   "version": "3.9.7"
  }
 },
 "nbformat": 4,
 "nbformat_minor": 5
}
